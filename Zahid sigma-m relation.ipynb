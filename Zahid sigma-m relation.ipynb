{
 "cells": [
  {
   "cell_type": "code",
   "execution_count": 1,
   "metadata": {},
   "outputs": [],
   "source": [
    "import numpy as np\n",
    "import matplotlib.pyplot as plt\n",
    "import matplotlib\n",
    "from lenstronomy.LensModel.Profiles.gauss_decomposition import SersicEllipseGaussDec\n",
    "from lenstronomy.LensModel.Profiles.nfw import NFW\n",
    "from lenstronomy.Cosmo.lens_cosmo import LensCosmo\n",
    "from lenstronomy.LensModel.lens_model import LensModel\n",
    "import scipy.optimize as opt\n",
    "from astropy.io import fits"
   ]
  },
  {
   "cell_type": "code",
   "execution_count": null,
   "metadata": {},
   "outputs": [],
   "source": [
    "masses = np.load(\"data/halo_masses2.npy\")\n",
    "zs = np.load(\"data/halo_zs2.npy\")\n",
    "for i in range(len(masses)):\n",
    "    \n",
    "    lens_cosmo = LensCosmo(zs[i],4)\n",
    "te = lens_cosmo.sis_sigma_v2theta_E(c_sig[i])"
   ]
  }
 ],
 "metadata": {
  "kernelspec": {
   "display_name": "Python 3",
   "language": "python",
   "name": "python3"
  },
  "language_info": {
   "codemirror_mode": {
    "name": "ipython",
    "version": 3
   },
   "file_extension": ".py",
   "mimetype": "text/x-python",
   "name": "python",
   "nbconvert_exporter": "python",
   "pygments_lexer": "ipython3",
   "version": "3.8.3"
  }
 },
 "nbformat": 4,
 "nbformat_minor": 4
}
