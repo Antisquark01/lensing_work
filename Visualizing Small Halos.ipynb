{
 "cells": [
  {
   "cell_type": "code",
   "execution_count": 1,
   "metadata": {},
   "outputs": [],
   "source": [
    "import numpy as np\n",
    "import matplotlib.pyplot as plt\n",
    "from astropy.io import fits\n",
    "from astropy.coordinates import SkyCoord\n",
    "from astropy.wcs import WCS\n",
    "from lenstronomy.LightModel.Profiles.interpolation import Interpol\n",
    "from lenstronomy.LightModel.light_model import LightModel\n",
    "from lenstronomy.ImSim.image_model import ImageModel\n",
    "from lenstronomy.LensModel.lens_model import LensModel\n",
    "from lenstronomy.Data.imaging_data import ImageData\n",
    "from lenstronomy.Data.psf import PSF\n",
    "from lenstronomy.Cosmo.lens_cosmo import LensCosmo\n",
    "import scipy.optimize as opt"
   ]
  },
  {
   "cell_type": "code",
   "execution_count": 2,
   "metadata": {},
   "outputs": [],
   "source": [
    "with fits.open('/Users/ethansilver/Downloads/goods_s_F115W_2018_08_29.fits') as hdul:\n",
    "    header = hdul[0].header\n",
    "    sim = hdul[0].data\n",
    "with fits.open('/Users/ethansilver/Downloads/goods_s_F444W_2018_08_31.fits') as hdul:\n",
    "    header2 = hdul[0].header\n",
    "    sim2 = hdul[0].data\n",
    "wcs = WCS(header)\n",
    "wcs2 = WCS(header2)\n",
    "\n",
    "with fits.open('/Users/ethansilver/Downloads/JADES_SF_mock_r1_v1.1.fits') as hdul:\n",
    "    data = hdul[1].data"
   ]
  },
  {
   "cell_type": "code",
   "execution_count": 3,
   "metadata": {},
   "outputs": [
    {
     "data": {
      "text/plain": [
       "8.78721859113974"
      ]
     },
     "execution_count": 3,
     "metadata": {},
     "output_type": "execute_result"
    }
   ],
   "source": [
    "scale = 121/(53.21-53.165)/(-27.75+27.835)/60**2\n",
    "scale"
   ]
  },
  {
   "cell_type": "code",
   "execution_count": 4,
   "metadata": {},
   "outputs": [
    {
     "data": {
      "text/plain": [
       "<Figure size 432x288 with 0 Axes>"
      ]
     },
     "metadata": {},
     "output_type": "display_data"
    }
   ],
   "source": [
    "# plt.imshow(sim[5000:5050,8000:8050])\n",
    "bkg = np.std(sim[5000:5050,8000:8050])\n",
    "plt.figure()\n",
    "# plt.imshow(sim2[5000:5050,7980:8030])\n",
    "bkg2 = np.std(sim2[5000:5050,7980:8030])"
   ]
  },
  {
   "cell_type": "code",
   "execution_count": 9,
   "metadata": {},
   "outputs": [
    {
     "data": {
      "text/plain": [
       "28830.864197529485"
      ]
     },
     "execution_count": 9,
     "metadata": {},
     "output_type": "execute_result"
    },
    {
     "data": {
      "image/png": "[encoded data removed]",
      "text/plain": [
       "<Figure size 600x400 with 1 Axes>"
      ]
     },
     "metadata": {
      "needs_background": "light"
     },
     "output_type": "display_data"
    }
   ],
   "source": [
    "ticks = np.arange(0,100000,10000)\n",
    "plt.figure(dpi=100)\n",
    "plt.hist(cut['redshift'], bins=np.arange(0,14,1))\n",
    "plt.yticks(ticks/scale, labels=ticks)\n",
    "plt.xlabel(\"redshift\")\n",
    "plt.ylabel(\"count\")\n",
    "plt.title(\"All catalog sources in 11x11\")\n",
    "sum(cut['redshift']>6)*scale"
   ]
  },
  {
   "cell_type": "code",
   "execution_count": 20,
   "metadata": {
    "scrolled": true
   },
   "outputs": [
    {
     "data": {
      "text/plain": [
       "(2671.3144517064807, 20113.943355118863)"
      ]
     },
     "execution_count": 20,
     "metadata": {},
     "output_type": "execute_result"
    }
   ],
   "source": [
    "sum((brights2>5) * (brights2<6))*scale, sum((cut['redshift']>5) * (cut['redshift']<6))*scale"
   ]
  },
  {
   "cell_type": "code",
   "execution_count": 12,
   "metadata": {},
   "outputs": [
    {
     "ename": "NameError",
     "evalue": "name 'brights' is not defined",
     "output_type": "error",
     "traceback": [
      "\u001b[0;31m---------------------------------------------------------------------------\u001b[0m",
      "\u001b[0;31mNameError\u001b[0m                                 Traceback (most recent call last)",
      "\u001b[0;32m<ipython-input-12-1ab4dd9a2963>\u001b[0m in \u001b[0;36m<module>\u001b[0;34m\u001b[0m\n\u001b[1;32m      2\u001b[0m \u001b[0mplt\u001b[0m\u001b[0;34m.\u001b[0m\u001b[0mfigure\u001b[0m\u001b[0;34m(\u001b[0m\u001b[0mdpi\u001b[0m\u001b[0;34m=\u001b[0m\u001b[0;36m100\u001b[0m\u001b[0;34m)\u001b[0m\u001b[0;34m\u001b[0m\u001b[0;34m\u001b[0m\u001b[0m\n\u001b[1;32m      3\u001b[0m \u001b[0mplt\u001b[0m\u001b[0;34m.\u001b[0m\u001b[0mhist\u001b[0m\u001b[0;34m(\u001b[0m\u001b[0mbrights2\u001b[0m\u001b[0;34m,\u001b[0m \u001b[0mlabel\u001b[0m\u001b[0;34m=\u001b[0m\u001b[0;34m\"F444W\"\u001b[0m\u001b[0;34m,\u001b[0m \u001b[0mbins\u001b[0m\u001b[0;34m=\u001b[0m\u001b[0mnp\u001b[0m\u001b[0;34m.\u001b[0m\u001b[0marange\u001b[0m\u001b[0;34m(\u001b[0m\u001b[0;36m0\u001b[0m\u001b[0;34m,\u001b[0m\u001b[0;36m14\u001b[0m\u001b[0;34m,\u001b[0m\u001b[0;36m1\u001b[0m\u001b[0;34m)\u001b[0m\u001b[0;34m)\u001b[0m\u001b[0;34m\u001b[0m\u001b[0;34m\u001b[0m\u001b[0m\n\u001b[0;32m----> 4\u001b[0;31m \u001b[0mplt\u001b[0m\u001b[0;34m.\u001b[0m\u001b[0mhist\u001b[0m\u001b[0;34m(\u001b[0m\u001b[0mbrights\u001b[0m\u001b[0;34m,\u001b[0m \u001b[0mlabel\u001b[0m\u001b[0;34m=\u001b[0m\u001b[0;34m\"F115W\"\u001b[0m\u001b[0;34m,\u001b[0m\u001b[0mbins\u001b[0m\u001b[0;34m=\u001b[0m\u001b[0mnp\u001b[0m\u001b[0;34m.\u001b[0m\u001b[0marange\u001b[0m\u001b[0;34m(\u001b[0m\u001b[0;36m0\u001b[0m\u001b[0;34m,\u001b[0m\u001b[0;36m14\u001b[0m\u001b[0;34m,\u001b[0m\u001b[0;36m1\u001b[0m\u001b[0;34m)\u001b[0m\u001b[0;34m,\u001b[0m \u001b[0malpha\u001b[0m\u001b[0;34m=\u001b[0m\u001b[0;36m0.7\u001b[0m\u001b[0;34m)\u001b[0m\u001b[0;34m\u001b[0m\u001b[0;34m\u001b[0m\u001b[0m\n\u001b[0m\u001b[1;32m      5\u001b[0m \u001b[0;34m\u001b[0m\u001b[0m\n\u001b[1;32m      6\u001b[0m \u001b[0mplt\u001b[0m\u001b[0;34m.\u001b[0m\u001b[0myticks\u001b[0m\u001b[0;34m(\u001b[0m\u001b[0mticks\u001b[0m\u001b[0;34m/\u001b[0m\u001b[0mscale\u001b[0m\u001b[0;34m,\u001b[0m \u001b[0mlabels\u001b[0m\u001b[0;34m=\u001b[0m\u001b[0mticks\u001b[0m\u001b[0;34m)\u001b[0m\u001b[0;34m\u001b[0m\u001b[0;34m\u001b[0m\u001b[0m\n",
      "\u001b[0;31mNameError\u001b[0m: name 'brights' is not defined"
     ]
    },
    {
     "data": {
      "image/png": "[encoded data removed]",
      "text/plain": [
       "<Figure size 600x400 with 1 Axes>"
      ]
     },
     "metadata": {
      "needs_background": "light"
     },
     "output_type": "display_data"
    }
   ],
   "source": [
    "ticks = np.arange(0,20000,2000)\n",
    "plt.figure(dpi=100)\n",
    "plt.hist(brights2, label=\"F444W\", bins=np.arange(0,14,1))\n",
    "plt.hist(brights, label=\"F115W\",bins=np.arange(0,14,1), alpha=0.7)\n",
    "\n",
    "plt.yticks(ticks/scale, labels=ticks)\n",
    "plt.xlabel(\"redshift\")\n",
    "plt.ylabel(\"count\")\n",
    "plt.title(\"Catalog sources in 11x11 $>5\\sigma$\")\n",
    "plt.legend()\n"
   ]
  },
  {
   "cell_type": "code",
   "execution_count": 8,
   "metadata": {},
   "outputs": [
    {
     "name": "stdout",
     "output_type": "stream",
     "text": [
      "0\n",
      "1000\n",
      "2000\n",
      "3000\n",
      "4000\n",
      "5000\n",
      "6000\n",
      "7000\n",
      "8000\n",
      "9000\n",
      "10000\n",
      "11000\n",
      "12000\n",
      "13000\n",
      "14000\n",
      "15000\n",
      "16000\n",
      "17000\n",
      "18000\n",
      "19000\n",
      "20000\n",
      "21000\n",
      "22000\n",
      "23000\n",
      "24000\n",
      "25000\n",
      "26000\n",
      "27000\n",
      "28000\n",
      "29000\n",
      "30000\n"
     ]
    }
   ],
   "source": [
    "sum(cut['redshift']>6)\n",
    "brights2 = []\n",
    "for i in range(len(cut)):\n",
    "    if i%1000==0:\n",
    "        print(i)\n",
    "    bright = cut[i]\n",
    "    ra, dec = bright['RA'], bright['DEC']\n",
    "    sky = SkyCoord(str(ra)+\"d \"+str(dec)+\"d\")\n",
    "    x, y = wcs2.world_to_pixel(sky)\n",
    "    x, y = int(x), int(y)\n",
    "    if sim2[y,x]>5*bkg2:\n",
    "        brights2.append(bright['redshift'])\n",
    "brights2 = np.array(brights2)"
   ]
  },
  {
   "cell_type": "code",
   "execution_count": 7,
   "metadata": {
    "scrolled": true
   },
   "outputs": [
    {
     "data": {
      "text/plain": [
       "<matplotlib.collections.PathCollection at 0x7f8905d30c10>"
      ]
     },
     "execution_count": 7,
     "metadata": {},
     "output_type": "execute_result"
    },
    {
     "data": {
      "image/png": "[encoded data removed]",
      "text/plain": [
       "<Figure size 432x288 with 1 Axes>"
      ]
     },
     "metadata": {
      "needs_background": "light"
     },
     "output_type": "display_data"
    }
   ],
   "source": [
    "cut = data[data['RA']>53.165]\n",
    "cut = cut[cut['RA']<53.21]\n",
    "cut = cut[cut['DEC']<-27.75]\n",
    "cut = cut[cut['DEC']>-27.835]\n",
    "plt.scatter(cut['RA'], cut['DEC'])"
   ]
  },
  {
   "cell_type": "code",
   "execution_count": 19,
   "metadata": {},
   "outputs": [],
   "source": [
    "def theta_E_S(c, m=1e13, z_lens=0.2, z_source=6.0, k=.1):\n",
    "    factor=1.5*m/1e13\n",
    "    lens_model = LensModel(['NFW', 'SERSIC_ELLIPSE_GAUSS_DEC'], z_lens=z_lens, z_source=z_source)\n",
    "    lens_cosmo = LensCosmo(z_lens=z_lens, z_source=z_source)\n",
    "    Rs_angle, alpha_Rs = lens_cosmo.nfw_physical2angle(M=m, c=c)\n",
    "#     print(Rs_angle, alpha_Rs)\n",
    "    return opt.root(lambda x: lens_model.alpha(x,0, [{'alpha_Rs': alpha_Rs, 'Rs': Rs_angle, 'center_x': 0., 'center_y': 0.}, \n",
    "                {'R_sersic': factor*np.sqrt(Rs_angle/10), 'n_sersic': 4, 'k_eff':k, 'center_x': 0., 'center_y': 0.}])[0]-x, 1).x[0]\n",
    "\n",
    "masses = np.load(\"data/halo_masses2.npy\")\n",
    "zs = np.load(\"data/halo_zs2.npy\")[masses>1e12]\n",
    "concs = np.load(\"data/c2.npy\")[masses>1e12]\n",
    "masses = masses[masses>1e12]"
   ]
  },
  {
   "cell_type": "code",
   "execution_count": 20,
   "metadata": {},
   "outputs": [
    {
     "name": "stdout",
     "output_type": "stream",
     "text": [
      "[ 93  32  76  51   8   3  25  33  68 100 103  11  12  13  14  15  16  17\n",
      "  18  19  20  21  22  23  24  10  26  27  28  29  30  31   9   7  34  35\n",
      "  36  37  38  39  40  41  42  43  44  45  46  47  48  49  50   1  52  53\n",
      "  54  55  56  57  58  59  60  61  62  63  64  65  66  67   6  69  70  71\n",
      "  72  73  74  75   5  77  78  79  80  81  82  83  84  85  86  87  88  89\n",
      "  90  91  92   4  94  95  96  97  98  99   2 101 102   0]\n",
      "[1.00121914e+12 1.00855400e+12 1.01408895e+12]\n"
     ]
    }
   ],
   "source": [
    "k=3\n",
    "idx = np.argpartition(masses, k)\n",
    "print(idx)\n",
    "print(masses[idx[:k]])"
   ]
  },
  {
   "cell_type": "code",
   "execution_count": 42,
   "metadata": {},
   "outputs": [],
   "source": [
    "m, c, z_lens =1e12, 8, 0.2\n",
    "\n",
    "inds = np.argwhere((cut['NRC_F200W_fnu']>5e1) * (cut['redshift']>5))\n",
    "Rs = np.array([int(cut['Re_maj'][i]/.03)*3 for i in range(len(cut))])\n",
    "inds = np.argwhere((cut['redshift']>8.)*(Rs>3))\n",
    "inds2 = inds.copy()\n",
    "inds = []\n",
    "for i in range(len(inds2)):\n",
    "    bright = cut[inds2[i]][0]\n",
    "    ra, dec = bright['RA'], bright['DEC']\n",
    "    sky = SkyCoord(str(ra)+\"d \"+str(dec)+\"d\")\n",
    "    x, y = wcs.world_to_pixel(sky)\n",
    "    x, y = int(x), int(y)\n",
    "    if sim[y,x]>5*bkg:\n",
    "        inds.append(inds2[i])\n",
    "        \n",
    "\n"
   ]
  },
  {
   "cell_type": "code",
   "execution_count": 43,
   "metadata": {},
   "outputs": [
    {
     "data": {
      "text/plain": [
       "(248, 8)"
      ]
     },
     "execution_count": 43,
     "metadata": {},
     "output_type": "execute_result"
    }
   ],
   "source": [
    "len(inds2), len(inds)"
   ]
  },
  {
   "cell_type": "code",
   "execution_count": 51,
   "metadata": {},
   "outputs": [
    {
     "name": "stdout",
     "output_type": "stream",
     "text": [
      "0.985 6.056861425996905 1040508206214.6044\n",
      "0.03644471055813014\n",
      "0.03661006248815924\n",
      "0.036843979524428576\n",
      "0.036913070269324465\n",
      "0.036928301251653466\n",
      "0.037119319835632436\n",
      "0.03755319271734617\n",
      "0.03831762107046241\n"
     ]
    },
    {
     "data": {
      "image/png": "[encoded data removed]",
      "text/plain": [
       "<Figure size 1300x750 with 8 Axes>"
      ]
     },
     "metadata": {
      "needs_background": "light"
     },
     "output_type": "display_data"
    }
   ],
   "source": [
    "lens = idx[6]\n",
    "z_lens = zs[lens]\n",
    "c = concs[lens]+.5\n",
    "m = masses[lens]\n",
    "print(z_lens, c, m)\n",
    "\n",
    "\n",
    "fig, axs=plt.subplots(2,4, dpi=100, figsize=(13,7.5))\n",
    "for i in range(0,8):\n",
    "\n",
    "    j = i-0\n",
    "    bright = cut[inds[i]][0]\n",
    "    R = int(bright['Re_maj']/.03)*3\n",
    "    z_source = cut['redshift'][inds[i]][0]\n",
    "\n",
    "    ra, dec = bright['RA'], bright['DEC']\n",
    "    sky = SkyCoord(str(ra)+\"d \"+str(dec)+\"d\")\n",
    "    x, y = wcs.world_to_pixel(sky)\n",
    "    x, y = int(x), int(y)\n",
    "    \n",
    "    gal = sim[y-R:y+R,x-R:x+R]\n",
    "    while gal[R,R]==0:\n",
    "        ij = i+10\n",
    "        bright = cut[inds[ij]][0]\n",
    "        R = int(bright['Re_maj']/.03)*3\n",
    "        z_source = cut['redshift'][inds[ij]][0]\n",
    "\n",
    "        ra, dec = bright['RA'], bright['DEC']\n",
    "        sky = SkyCoord(str(ra)+\"d \"+str(dec)+\"d\")\n",
    "        x, y = wcs.world_to_pixel(sky)\n",
    "        x, y = int(x), int(y)\n",
    "\n",
    "        gal = sim[y-R:y+R,x-R:x+R]\n",
    "        ij += 1\n",
    "    \n",
    "    pixels = 2*R+1\n",
    "    pixel_size = .03\n",
    "    background_rms = 0.02\n",
    "    exp_time = 1380\n",
    "\n",
    "    kwargs_data = {'background_rms': background_rms, 'exposure_time': exp_time,\n",
    "                   'ra_at_xy_0': -pixels/2*pixel_size, 'dec_at_xy_0': -pixels/2*pixel_size,\n",
    "                   'transform_pix2angle':np.array([[pixel_size, 0.  ], [0.  , pixel_size]]), \n",
    "                   'image_data': np.zeros((pixels, pixels))}\n",
    "\n",
    "    kwargs_numerics = {'supersampling_factor': 1, 'supersampling_convolution': False}\n",
    "\n",
    "    data_class = ImageData(**kwargs_data)\n",
    "\n",
    "    #PSF\n",
    "    kwargs_psf = {'psf_type': 'GAUSSIAN', 'fwhm': 0.03, 'pixel_size': pixel_size, 'truncation': 3}\n",
    "#     kwargs_psf = {'psf_type':'NONE'}\n",
    "    psf_class = PSF(**kwargs_psf)\n",
    "    \n",
    "    source_model_class = LightModel(['INTERPOL'])\n",
    "    lens_light_model_class = LightModel(['SERSIC'])\n",
    "    lens_model_class = LensModel(['NFW', 'SERSIC_ELLIPSE_GAUSS_DEC'], z_lens=z_lens, z_source=z_source)\n",
    "    \n",
    "    image_model = ImageModel(data_class=data_class, psf_class=psf_class, lens_model_class=lens_model_class, \n",
    "        source_model_class=source_model_class, lens_light_model_class=lens_light_model_class,\n",
    "        kwargs_numerics=kwargs_numerics)\n",
    "    \n",
    "    factor=1.5*m/1e13\n",
    "    lens_cosmo = LensCosmo(z_lens=z_lens, z_source=z_source)\n",
    "    Rs_angle, alpha_Rs = lens_cosmo.nfw_physical2angle(M=m, c=c)\n",
    "    k = c*.01*(m/1e13)**(1/3)*(np.log10(m)-9)/(13-9)\n",
    "\n",
    "    \n",
    "    kwargs_lens = [{'alpha_Rs': alpha_Rs, 'Rs': Rs_angle, 'center_x': 0., 'center_y': 0.},\n",
    "        {'R_sersic': factor*np.sqrt(Rs_angle/10), 'n_sersic': 4, 'k_eff':k, 'center_x': 0., 'center_y': 0.}]\n",
    "#     kwargs_lens = [{'alpha_Rs': 0, 'Rs': Rs_angle, 'center_x': 0., 'center_y': 0.},\n",
    "#         {'R_sersic': factor*np.sqrt(Rs_angle/10), 'n_sersic': 4, 'k_eff':0, 'center_x': 0., 'center_y': 0.}]\n",
    "    kwargs_source = [{'image':gal, 'amp':1.2e3, 'scale':pixel_size, 'center_x':0.0, 'center_y':0.0}]\n",
    "    kwargs_lens_light = [{'amp':.1, 'R_sersic': factor*np.sqrt(Rs_angle/10), 'n_sersic': 4, 'center_x': 0., 'center_y': 0.}]\n",
    "\n",
    "    \n",
    "    image = image_model.image(kwargs_lens, kwargs_source, kwargs_lens_light=kwargs_lens_light, kwargs_ps=None,\n",
    "                               source_add=True, lens_light_add=True)\n",
    "    \n",
    "    axs[j//4,j%4].imshow(image, vmin=0)\n",
    "    axs[j//4,j%4].axis('off')\n",
    "    axs[j//4,j%4].set_title(\"z = \"+str(z_source))\n",
    "    \n",
    "    print(theta_E_S(c,m,z_lens,z_source,k))\n",
    "\n",
    "plt.tight_layout()\n",
    "plt.subplots_adjust(hspace=0,wspace=0);"
   ]
  },
  {
   "cell_type": "code",
   "execution_count": 10,
   "metadata": {},
   "outputs": [
    {
     "data": {
      "text/plain": [
       "83"
      ]
     },
     "execution_count": 10,
     "metadata": {},
     "output_type": "execute_result"
    }
   ],
   "source": [
    "len(inds)"
   ]
  },
  {
   "cell_type": "code",
   "execution_count": null,
   "metadata": {},
   "outputs": [],
   "source": []
  }
 ],
 "metadata": {
  "kernelspec": {
   "display_name": "Python 3",
   "language": "python",
   "name": "python3"
  },
  "language_info": {
   "codemirror_mode": {
    "name": "ipython",
    "version": 3
   },
   "file_extension": ".py",
   "mimetype": "text/x-python",
   "name": "python",
   "nbconvert_exporter": "python",
   "pygments_lexer": "ipython3",
   "version": "3.8.3"
  }
 },
 "nbformat": 4,
 "nbformat_minor": 4
}
