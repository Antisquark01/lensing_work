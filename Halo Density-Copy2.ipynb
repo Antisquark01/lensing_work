{
 "cells": [
  {
   "cell_type": "code",
   "execution_count": 1,
   "metadata": {},
   "outputs": [],
   "source": [
    "import numpy as np\n",
    "import matplotlib.pyplot as plt\n",
    "import matplotlib\n",
    "from lenstronomy.LensModel.Profiles.gauss_decomposition import SersicEllipseGaussDec\n",
    "from lenstronomy.LensModel.Profiles.nfw import NFW\n",
    "from lenstronomy.Cosmo.lens_cosmo import LensCosmo\n",
    "from lenstronomy.LensModel.lens_model import LensModel\n",
    "import scipy.optimize as opt\n",
    "from astropy.io import fits"
   ]
  },
  {
   "cell_type": "code",
   "execution_count": 2,
   "metadata": {},
   "outputs": [],
   "source": [
    "def theta_E_S(c, m=1e13, z_lens=0.2, z_source=6.0, k=.1):\n",
    "    factor=1.5*m/1e13\n",
    "    lens_model = LensModel(['NFW', 'SERSIC_ELLIPSE_GAUSS_DEC'], z_lens=z_lens, z_source=z_source)\n",
    "    lens_cosmo = LensCosmo(z_lens=z_lens, z_source=z_source)\n",
    "    Rs_angle, alpha_Rs = lens_cosmo.nfw_physical2angle(M=m, c=c)\n",
    "#     print(Rs_angle, alpha_Rs)\n",
    "    return opt.root(lambda x: lens_model.alpha(x,0, [{'alpha_Rs': alpha_Rs, 'Rs': Rs_angle, 'center_x': 0., 'center_y': 0.}, \n",
    "                {'R_sersic': factor*np.sqrt(Rs_angle/10), 'n_sersic': 4, 'k_eff':k, 'center_x': 0., 'center_y': 0.}])[0]-x, 1).x[0]\n"
   ]
  },
  {
   "cell_type": "code",
   "execution_count": 3,
   "metadata": {},
   "outputs": [],
   "source": [
    "masses1 = np.load(\"data/halo_masses.npy\")\n",
    "params1 = np.load(\"data/halo_params.npy\", allow_pickle=True)\n",
    "zs1 = np.load(\"data/halo_zs.npy\")\n",
    "Rs1 = np.array([d['Rs'] for d in params1])\n",
    "alpha_Rs1 = np.array([d['alpha_Rs'] for d in params1])\n",
    "concs1 = np.load(\"data/c.npy\")\n",
    "\n",
    "masses2 = np.load(\"data/halo_masses2.npy\")\n",
    "params2 = np.load(\"data/halo_params2.npy\", allow_pickle=True)\n",
    "zs2 = np.load(\"data/halo_zs2.npy\")\n",
    "Rs2 = np.array([d['Rs'] for d in params2])\n",
    "alpha_Rs2 = np.array([d['alpha_Rs'] for d in params2])\n",
    "concs2 = np.load(\"data/c2.npy\")\n",
    "\n",
    "masses = np.concatenate([masses1, masses2])\n",
    "params = np.concatenate([params1, params2])\n",
    "zs = np.concatenate([zs1, zs2])\n",
    "Rs = np.concatenate([Rs1, Rs2])\n",
    "alpha_Rs = np.concatenate([alpha_Rs1, alpha_Rs2])\n",
    "concs = np.concatenate([concs1, concs2])\n",
    "\n",
    "masses = masses2\n",
    "params = params2\n",
    "zs = zs2\n",
    "Rs = Rs2\n",
    "alpha_Rs = alpha_Rs2\n",
    "concs = concs2\n",
    "\n",
    "# masses2, zs2, Rs2, alpha_Rs2"
   ]
  },
  {
   "cell_type": "code",
   "execution_count": 4,
   "metadata": {},
   "outputs": [
    {
     "data": {
      "image/png": "[encoded data removed]",
      "text/plain": [
       "<Figure size 432x288 with 1 Axes>"
      ]
     },
     "metadata": {
      "needs_background": "light"
     },
     "output_type": "display_data"
    }
   ],
   "source": [
    "plt.hist(masses, log=True, bins=np.logspace(10,14,9))\n",
    "plt.xscale('log')"
   ]
  },
  {
   "cell_type": "code",
   "execution_count": 5,
   "metadata": {},
   "outputs": [
    {
     "name": "stdout",
     "output_type": "stream",
     "text": [
      "0 100 200 300 400 500 600 700 800 900 1000 1100 1200 1300 1400 1500 1600 1700 1800 1900 2000 2100 2200 2300 2400 2500 2600 2700 2800 2900 3000 3100 3200 3300 3400 3500 3600 3700 3800 3900 4000 4100 4200 4300 4400 4500 4600 4700 4800 4900 5000 5100 5200 5300 5400 5500 5600 5700 5800 5900 6000 6100 6200 6300 6400 6500 6600 6700 6800 6900 7000 7100 7200 7300 7400 7500 7600 7700 7800 7900 8000 8100 8200 8300 8400 8500 8600 8700 8800 8900 9000 9100 9200 9300 9400 9500 9600 9700 9800 9900 10000 10100 10200 10300 10400 10500 10600 10700 10800 10900 11000 11100 11200 11300 11400 11500 11600 11700 11800 11900 12000 12100 "
     ]
    },
    {
     "data": {
      "text/plain": [
       "(array([1.2113e+04, 2.8000e+01, 1.0000e+01, 5.0000e+00, 4.0000e+00,\n",
       "        0.0000e+00, 2.0000e+00, 1.0000e+00, 3.0000e+00, 1.0000e+00]),\n",
       " array([-8.54733567e-321,  4.52895043e-001,  9.05790087e-001,\n",
       "         1.35868513e+000,  1.81158017e+000,  2.26447522e+000,\n",
       "         2.71737026e+000,  3.17026530e+000,  3.62316035e+000,\n",
       "         4.07605539e+000,  4.52895043e+000]),\n",
       " <BarContainer object of 10 artists>)"
      ]
     },
     "execution_count": 5,
     "metadata": {},
     "output_type": "execute_result"
    },
    {
     "data": {
      "image/png": "[encoded data removed]",
      "text/plain": [
       "<Figure size 432x288 with 1 Axes>"
      ]
     },
     "metadata": {
      "needs_background": "light"
     },
     "output_type": "display_data"
    }
   ],
   "source": [
    "wc_thetaE = np.array([])\n",
    "for i in range(len(masses2)):\n",
    "    if i%100==0:\n",
    "        print(i, end=\" \")\n",
    "    c = concs2[i]\n",
    "    k = c*.01*(masses2[i]/1e13)**(1/3)*(np.log10(masses2[i])-9)/(13-9)\n",
    "    te = theta_E_S(c, m=masses2[i], z_lens=zs2[i], z_source=4.0, k=k)\n",
    "    wc_thetaE = np.append(wc_thetaE, te)\n",
    "plt.hist(wc_thetaE)"
   ]
  },
  {
   "cell_type": "code",
   "execution_count": 10,
   "metadata": {},
   "outputs": [
    {
     "data": {
      "image/png": "[encoded data removed]",
      "text/plain": [
       "<Figure size 432x288 with 1 Axes>"
      ]
     },
     "metadata": {
      "needs_background": "light"
     },
     "output_type": "display_data"
    }
   ],
   "source": [
    "c_sig = np.load(\"/Users/ethansilver/Downloads/LensPop/lens_sig.npy\", encoding=\"latin1\",allow_pickle=True)\n",
    "c_z = np.load(\"/Users/ethansilver/Downloads/LensPop/lens_z.npy\", encoding=\"latin1\",allow_pickle=True)\n",
    "c_thetaE = np.array([])\n",
    "for i in range(len(c_sig)):\n",
    "    lens_cosmo = LensCosmo(c_z[i],4)\n",
    "    te = lens_cosmo.sis_sigma_v2theta_E(c_sig[i])\n",
    "    c_thetaE = np.append(c_thetaE, te)\n",
    "\n",
    "bins = np.arange(0,1.6,0.1)\n",
    "    \n",
    "n, bins, _ = plt.hist(c_thetaE, bins=bins)\n",
    "n2, bins, _ = plt.hist(wc_thetaE, bins=bins)"
   ]
  },
  {
   "cell_type": "code",
   "execution_count": 11,
   "metadata": {
    "scrolled": true
   },
   "outputs": [
    {
     "data": {
      "text/plain": [
       "<matplotlib.legend.Legend at 0x7f95508542b0>"
      ]
     },
     "execution_count": 11,
     "metadata": {},
     "output_type": "execute_result"
    },
    {
     "data": {
      "image/png": "[encoded data removed]",
      "text/plain": [
       "<Figure size 432x288 with 1 Axes>"
      ]
     },
     "metadata": {
      "needs_background": "light"
     },
     "output_type": "display_data"
    }
   ],
   "source": [
    "nz, binsz, _ = plt.hist(c_z, density=True, label=\"Collett\")\n",
    "plt.hist(zs2, density=True, alpha=0.7, label=\"W-C\", bins=binsz)\n",
    "plt.title(\"z_lens distributions\")\n",
    "plt.xlabel(\"z_lens\")\n",
    "plt.ylabel(\"density\")\n",
    "plt.legend()"
   ]
  },
  {
   "cell_type": "code",
   "execution_count": 12,
   "metadata": {},
   "outputs": [
    {
     "data": {
      "image/png": "[encoded data removed]",
      "text/plain": [
       "<Figure size 432x288 with 1 Axes>"
      ]
     },
     "metadata": {
      "needs_background": "light"
     },
     "output_type": "display_data"
    }
   ],
   "source": [
    "alpha = 0.16\n",
    "beta = 3.31\n",
    "z_sig = 100*10**((np.log10(masses2/1e12)-alpha)/beta)\n",
    "z_thetaE = np.array([])\n",
    "for i in range(len(z_sig)):\n",
    "    lens_cosmo = LensCosmo(zs2[i],4)\n",
    "    te = lens_cosmo.sis_sigma_v2theta_E(z_sig[i])\n",
    "    z_thetaE = np.append(z_thetaE, te)\n",
    "n3, bins, _ = plt.hist(z_thetaE, bins=bins)"
   ]
  },
  {
   "cell_type": "code",
   "execution_count": 28,
   "metadata": {},
   "outputs": [
    {
     "data": {
      "text/plain": [
       "Text(0, 0.5, \"Count in 11'x11'\")"
      ]
     },
     "execution_count": 28,
     "metadata": {},
     "output_type": "execute_result"
    },
    {
     "data": {
      "image/png": "[encoded data removed]",
      "text/plain": [
       "<Figure size 600x400 with 1 Axes>"
      ]
     },
     "metadata": {
      "needs_background": "light"
     },
     "output_type": "display_data"
    }
   ],
   "source": [
    "plt.figure(dpi=100)\n",
    "plt.bar((bins[1:]+bins[:-1])/2, n, width=.1, log=True, label=\"Collett\")\n",
    "# plt.bar((bins[1:]+bins[:-1])/2, n3*5, width=.1, alpha=0.7, log=True, label=\"W-C to $\\sigma$\")\n",
    "plt.bar((bins[1:]+bins[:-1])/2, n2*5, width=.1, alpha=0.7, log=True, label=\"W-C + Sersic\")\n",
    "\n",
    "plt.title(\"Comparing Theta_E distributions\")\n",
    "plt.legend()\n",
    "plt.xlabel(\"Theta_E\")\n",
    "plt.ylabel(\"Count in 11'x11'\")"
   ]
  },
  {
   "cell_type": "code",
   "execution_count": 5,
   "metadata": {},
   "outputs": [],
   "source": [
    "with fits.open('/Users/ethansilver/Downloads/JADES_SF_mock_r1_v1.1.fits') as hdul:\n",
    "#     print(hdul.info())\n",
    "    data = hdul[1].data\n",
    "    header = hdul[1].header\n",
    "data = data[data['RA']>53.165]\n",
    "data = data[data['RA']<53.21]\n",
    "data = data[data['DEC']<-27.75]\n",
    "data = data[data['DEC']>-27.835]\n",
    "total_source_area = (53.21-53.165)*(-27.75+27.835)*(3600**2)/.03**2 #pixels\n",
    "\n",
    "z_sources = np.logspace(np.log10(max(data['redshift'])), np.log10(min(data['redshift'])), 20)\n",
    "z_source_means = (z_sources[1:]+z_sources[:-1])/2"
   ]
  },
  {
   "cell_type": "code",
   "execution_count": 6,
   "metadata": {},
   "outputs": [
    {
     "data": {
      "text/plain": [
       "0.0020595375"
      ]
     },
     "execution_count": 6,
     "metadata": {},
     "output_type": "execute_result"
    }
   ],
   "source": [
    "with fits.open('/Users/ethansilver/Downloads/goods_s_F115W_2018_08_29.fits') as hdul:\n",
    "    data3 = hdul[0].data\n",
    "    header3 = hdul[0].header\n",
    "from astropy.wcs import WCS\n",
    "w = WCS(header3)\n",
    "from astropy.coordinates import SkyCoord\n",
    "bkg = data3[5000:5050,8000:8050]\n",
    "bkg = np.std(bkg)\n",
    "bkg"
   ]
  },
  {
   "cell_type": "code",
   "execution_count": null,
   "metadata": {},
   "outputs": [
    {
     "name": "stdout",
     "output_type": "stream",
     "text": [
      "0 44\n",
      "1 304\n",
      "2 1266\n",
      "3 2235\n",
      "4 3027\n",
      "5 3389\n",
      "6 3412\n",
      "7 3193\n",
      "8 3018\n"
     ]
    }
   ],
   "source": [
    "TES=[]\n",
    "lens_areas = np.ones(len(z_source_means))\n",
    "source_areas = np.zeros(len(z_source_means))\n",
    "net = np.ones(len(z_source_means))\n",
    "counts = np.ones(len(z_source_means))\n",
    "NORM = 1\n",
    "\n",
    "# z_source_means = [6.0]\n",
    "for zi in range(len(z_source_means)):\n",
    "    print(zi, end=\" \")\n",
    "    sources = data[data['redshift']<z_sources[zi]]\n",
    "    sources = sources[sources['redshift']>z_sources[zi+1]]\n",
    "    print(len(sources))\n",
    "    for source in range(len(sources)):\n",
    "        R = int(sources[source]['Re_maj']/.03*3)\n",
    "        ra, dec = sources[source]['RA'], sources[source]['DEC']\n",
    "        sky = SkyCoord(str(ra)+\"d \"+str(dec)+\"d\")\n",
    "        x, y = w.world_to_pixel(sky)\n",
    "        x, y = int(x), int(y)\n",
    "        gal = data3[y-R:y+R,x-R:x+R]\n",
    "        \n",
    "        source_areas[zi] += np.count_nonzero([gal>5*bkg])/total_source_area\n",
    "        \n",
    "\n",
    "    TESz = []\n",
    "    for lens in range(len(masses)):\n",
    "        if zs[lens] < z_source_means[zi]:\n",
    "#             lens_cosmo = LensCosmo(z_lens=zs[lens], z_source=6.0)\n",
    "#             _, _, c, _, _ = lens_cosmo.nfw_angle2physical(Rs[lens], alpha_Rs[lens])\n",
    "            c = concs[lens]\n",
    "            k = c*.01*(masses[lens]/1e13)**(1/3)*(np.log10(masses[lens])-9)/(13-9)\n",
    "            theta_E = theta_E_S(c, m=masses[lens], z_lens=zs[lens], z_source=z_source_means[zi], k=k)\n",
    "            TESz.append(theta_E)\n",
    "        else:\n",
    "            TESz.append(0)\n",
    "    TESz = np.array(TESz)\n",
    "#     TESz = TESz[TESz>.03]\n",
    "    lens_areas[zi] = np.sum(np.pi * TESz**2)*NORM/(11*60)**2\n",
    "    TES.append(TESz)\n",
    "    net[zi] = lens_areas[zi] * source_areas[zi]\n",
    "    counts[zi] = len(TESz[TESz>.03])*NORM/(11*60)**2 * source_areas[zi] #per square arcsecond\n"
   ]
  },
  {
   "cell_type": "code",
   "execution_count": 71,
   "metadata": {},
   "outputs": [
    {
     "name": "stdout",
     "output_type": "stream",
     "text": [
      "all: 25 9.931382051851004e-06\n"
     ]
    },
    {
     "data": {
      "image/png": "[encoded data removed]",
      "text/plain": [
       "<Figure size 600x400 with 1 Axes>"
      ]
     },
     "metadata": {
      "needs_background": "light"
     },
     "output_type": "display_data"
    }
   ],
   "source": [
    "te = 1\n",
    "print(\"all:\",sum(TES[6]>te), sum(counts))\n",
    "plt.figure(dpi=100)\n",
    "plt.hist(masses[TES[6]>te], bins=np.logspace(11,np.log10(5e13),21))\n",
    "plt.xscale('log')\n",
    "plt.xlabel(\"Halo mass\")\n",
    "plt.ylabel(\"Counts\")\n",
    "plt.title(\"Halos in 11'x11' > \"+str(te)+\"\\\"\");"
   ]
  },
  {
   "cell_type": "code",
   "execution_count": 35,
   "metadata": {},
   "outputs": [
    {
     "data": {
      "text/plain": [
       "0.0009590652830332478"
      ]
     },
     "execution_count": 35,
     "metadata": {},
     "output_type": "execute_result"
    }
   ],
   "source": [
    "np.mean(source_areas)"
   ]
  },
  {
   "cell_type": "code",
   "execution_count": 102,
   "metadata": {},
   "outputs": [
    {
     "data": {
      "text/plain": [
       "Text(0.5, 0, 'theta_E')"
      ]
     },
     "execution_count": 102,
     "metadata": {},
     "output_type": "execute_result"
    },
    {
     "data": {
      "image/png": "[encoded data removed]",
      "text/plain": [
       "<Figure size 432x288 with 1 Axes>"
      ]
     },
     "metadata": {
      "needs_background": "light"
     },
     "output_type": "display_data"
    }
   ],
   "source": [
    "all_TES = []\n",
    "all_masses = []\n",
    "for i in range(len(TES)):\n",
    "    for j in range(len(TES[i])):\n",
    "        all_TES.append(TES[i][j])\n",
    "        all_masses.append(masses[j])\n",
    "plt.hist(all_TES, bins=np.logspace(-5,1,13), log=True)\n",
    "plt.xscale('log')\n",
    "plt.title(\"All Theta_Es\")\n",
    "plt.xlabel(\"theta_E\")"
   ]
  },
  {
   "cell_type": "code",
   "execution_count": 101,
   "metadata": {},
   "outputs": [
    {
     "data": {
      "text/plain": [
       "0.32907193515925925"
      ]
     },
     "execution_count": 101,
     "metadata": {},
     "output_type": "execute_result"
    }
   ],
   "source": [
    "max(all_TES)"
   ]
  },
  {
   "cell_type": "code",
   "execution_count": null,
   "metadata": {},
   "outputs": [],
   "source": [
    "plt.hist(all_TES[all_masses], bins=np.logspace(-5,1,13), log=True)"
   ]
  },
  {
   "cell_type": "code",
   "execution_count": 44,
   "metadata": {},
   "outputs": [
    {
     "data": {
      "text/plain": [
       "78"
      ]
     },
     "execution_count": 44,
     "metadata": {},
     "output_type": "execute_result"
    }
   ],
   "source": [
    "sum(np.array(all_TES)>.03)"
   ]
  },
  {
   "cell_type": "code",
   "execution_count": 73,
   "metadata": {},
   "outputs": [
    {
     "data": {
      "text/plain": [
       "3846221173235.5254"
      ]
     },
     "execution_count": 73,
     "metadata": {},
     "output_type": "execute_result"
    }
   ],
   "source": [
    "max(masses)"
   ]
  },
  {
   "cell_type": "code",
   "execution_count": 106,
   "metadata": {},
   "outputs": [
    {
     "data": {
      "image/png": "[encoded data removed]",
      "text/plain": [
       "<Figure size 432x288 with 1 Axes>"
      ]
     },
     "metadata": {
      "needs_background": "light"
     },
     "output_type": "display_data"
    }
   ],
   "source": [
    "observed = np.array([])\n",
    "for i in range(len(TES)):\n",
    "    observed = np.concatenate([observed, masses[TES[i]>.03]])\n",
    "plt.hist(observed, bins=np.logspace(11,13,17), log=True)\n",
    "plt.xscale('log')\n",
    "# ind = np.argmax(TES[4]*(masses<1e10))\n",
    "# TES[4][ind]"
   ]
  },
  {
   "cell_type": "code",
   "execution_count": 47,
   "metadata": {},
   "outputs": [
    {
     "data": {
      "text/plain": [
       "(array([2.010e+03, 3.752e+03, 1.375e+03, 3.610e+02, 1.140e+02, 3.400e+01,\n",
       "        1.400e+01, 5.000e+00, 1.000e+00, 1.000e+00]),\n",
       " array([0.0643937 , 0.21339375, 0.3623938 , 0.51139385, 0.6603939 ,\n",
       "        0.80939395, 0.958394  , 1.10739405, 1.2563941 , 1.40539415,\n",
       "        1.5543942 ]),\n",
       " <BarContainer object of 10 artists>)"
      ]
     },
     "execution_count": 47,
     "metadata": {},
     "output_type": "execute_result"
    },
    {
     "data": {
      "image/png": "[encoded data removed]",
      "text/plain": [
       "<Figure size 432x288 with 1 Axes>"
      ]
     },
     "metadata": {
      "needs_background": "light"
     },
     "output_type": "display_data"
    }
   ],
   "source": [
    "plt.hist(Rs[masses<1e10])"
   ]
  },
  {
   "cell_type": "code",
   "execution_count": 48,
   "metadata": {},
   "outputs": [
    {
     "data": {
      "text/plain": [
       "(2.1184794735030867,\n",
       " {'alpha_Rs': 0.009204408900330238,\n",
       "  'Rs': 0.07736353748801965,\n",
       "  'center_x': -0.15857290734689333,\n",
       "  'center_y': -0.24718894878514244},\n",
       " 1.1649999999999998,\n",
       " 0.07736353748801965,\n",
       " 0.009204408900330238)"
      ]
     },
     "execution_count": 48,
     "metadata": {},
     "output_type": "execute_result"
    }
   ],
   "source": [
    "masses[ind]/1e9, params[ind], zs[ind], Rs[ind], alpha_Rs[ind]"
   ]
  },
  {
   "cell_type": "code",
   "execution_count": 49,
   "metadata": {},
   "outputs": [
    {
     "data": {
      "text/plain": [
       "(array(815.24209903), 62638341282174.375)"
      ]
     },
     "execution_count": 49,
     "metadata": {},
     "output_type": "execute_result"
    }
   ],
   "source": [
    "lens_cosmo = LensCosmo(z_lens=zs[ind], z_source=6.0)\n",
    "_, _, c, _, m200 = lens_cosmo.nfw_angle2physical(Rs[ind], alpha_Rs[ind])\n",
    "c, m200"
   ]
  },
  {
   "cell_type": "code",
   "execution_count": 50,
   "metadata": {},
   "outputs": [
    {
     "data": {
      "text/plain": [
       "(0.14280734066814002, 31.220427083397308)"
      ]
     },
     "execution_count": 50,
     "metadata": {},
     "output_type": "execute_result"
    }
   ],
   "source": [
    "lens_cosmo.nfw_physical2angle(M=27310498511202.54, c=334.89)"
   ]
  },
  {
   "cell_type": "code",
   "execution_count": 51,
   "metadata": {},
   "outputs": [
    {
     "data": {
      "text/plain": [
       "{'alpha_Rs': 0.005018058573713431,\n",
       " 'Rs': 0.564213779160085,\n",
       " 'center_x': 0.33606541452970606,\n",
       " 'center_y': 0.6566926291526087}"
      ]
     },
     "execution_count": 51,
     "metadata": {},
     "output_type": "execute_result"
    }
   ],
   "source": [
    "params[0]"
   ]
  },
  {
   "cell_type": "code",
   "execution_count": 125,
   "metadata": {},
   "outputs": [
    {
     "data": {
      "text/plain": [
       "600"
      ]
     },
     "execution_count": 125,
     "metadata": {},
     "output_type": "execute_result"
    }
   ],
   "source": [
    "len(TES[6][TES[6]>.03])*100"
   ]
  },
  {
   "cell_type": "code",
   "execution_count": 124,
   "metadata": {},
   "outputs": [
    {
     "name": "stdout",
     "output_type": "stream",
     "text": [
      "12.538578966917417 800\n",
      "10.030672675593202 800\n",
      "8.0243857450162 800\n",
      "6.4193866819616066 800\n",
      "5.1354118161804365 700\n",
      "4.108251430915027 600\n",
      "3.2865387282939498 600\n",
      "2.6291810504329916 600\n",
      "2.103304895343276 600\n",
      "1.682611960879009 400\n",
      "1.3460640048722143 300\n",
      "1.0768307532213672 300\n",
      "0.8614482423466763 200\n",
      "0.6891455059415672 200\n",
      "0.5513059346034789 100\n",
      "0.4410363717220357 0\n",
      "0.3528223967362861 0\n",
      "0.2822525569777574 0\n",
      "0.2257977573346292 0\n"
     ]
    }
   ],
   "source": [
    "for i in range(len(TES)):\n",
    "    print(z_source_means[i], len(TES[i][TES[i]>.03])*100)"
   ]
  },
  {
   "cell_type": "code",
   "execution_count": 53,
   "metadata": {},
   "outputs": [
    {
     "data": {
      "text/plain": [
       "300"
      ]
     },
     "execution_count": 53,
     "metadata": {},
     "output_type": "execute_result"
    }
   ],
   "source": [
    "all_TES = np.array(TES[10])\n",
    "len(all_TES[all_TES>.03])*100"
   ]
  },
  {
   "cell_type": "code",
   "execution_count": 20,
   "metadata": {},
   "outputs": [
    {
     "name": "stdout",
     "output_type": "stream",
     "text": [
      "5.002865777183724\n",
      "4.940613071313626\n",
      "4.866695272710784\n",
      "4.778516189280985\n",
      "4.672862746458385\n",
      "4.545802925253139\n",
      "4.392626788974274\n",
      "4.207901849474825\n",
      "3.9857620450296127\n",
      "3.7205969917292165\n",
      "3.408314469716689\n",
      "3.048253950453292\n",
      "2.8052920637573693\n",
      "2.5350226662555846\n",
      "1.366565615687252\n",
      "1.2403709205976878\n",
      "1.1665510328403905\n",
      "1.0816241920654486\n",
      "0.9861290852419544\n"
     ]
    },
    {
     "data": {
      "text/plain": [
       "0.0009931382051850998"
      ]
     },
     "execution_count": 20,
     "metadata": {},
     "output_type": "execute_result"
    }
   ],
   "source": [
    "areas = np.ones(len(z_source_means))\n",
    "total = 0\n",
    "for i in range(len(TES)):\n",
    "    print(max(TES[i]))\n",
    "    total += len(TES[i][TES[i]>.03])*100/(11*60)**2 * source_areas[i]\n",
    "    TES[i] = TES[i][TES[i]<1]\n",
    "    areas[i] = np.sum(np.pi * TES[i]**2)*100/(11*60)**2\n",
    "total"
   ]
  },
  {
   "cell_type": "code",
   "execution_count": 31,
   "metadata": {},
   "outputs": [
    {
     "data": {
      "image/png": "[encoded data removed]",
      "text/plain": [
       "<Figure size 600x400 with 1 Axes>"
      ]
     },
     "metadata": {
      "needs_background": "light"
     },
     "output_type": "display_data"
    }
   ],
   "source": [
    "plt.figure(dpi=100)\n",
    "plt.plot(z_source_means, source_areas/150*1.5, label=\"scaled source area\")\n",
    "plt.plot(z_source_means, areas/2000*1.5, label=\"scaled lensed area\")\n",
    "plt.plot(z_source_means, source_areas*areas, label=\"net lens-source area\")\n",
    "plt.legend()\n",
    "plt.xlabel('Redshift z')\n",
    "plt.ylabel(\"Net Area Fraction\")\n",
    "# plt.xlim(0,14)\n",
    "plt.title('Lensing Area vs z');"
   ]
  },
  {
   "cell_type": "code",
   "execution_count": 22,
   "metadata": {},
   "outputs": [
    {
     "data": {
      "text/plain": [
       "array([1.81554103e-08, 4.82933914e-06, 1.05355846e-04, 2.34531590e-04,\n",
       "       6.87164125e-04, 6.45424837e-04, 1.13660131e-03, 1.38919753e-03,\n",
       "       1.39744009e-03, 1.74386347e-03, 2.16368918e-03, 2.24184822e-03,\n",
       "       1.83119099e-03, 1.28215323e-03, 1.39328250e-03, 7.57425563e-04,\n",
       "       5.47240378e-04, 2.51724764e-04, 4.09259259e-04])"
      ]
     },
     "execution_count": 22,
     "metadata": {},
     "output_type": "execute_result"
    }
   ],
   "source": [
    "source_areas"
   ]
  },
  {
   "cell_type": "code",
   "execution_count": 23,
   "metadata": {},
   "outputs": [
    {
     "data": {
      "text/plain": [
       "(1.8222240377631709, 0.009903821642754511, 0.018046981863146405)"
      ]
     },
     "execution_count": 23,
     "metadata": {},
     "output_type": "execute_result"
    }
   ],
   "source": [
    "np.sum(source_areas)*100, np.mean(areas), np.sum(source_areas)*np.mean(areas)*100"
   ]
  },
  {
   "cell_type": "code",
   "execution_count": 24,
   "metadata": {},
   "outputs": [
    {
     "data": {
      "text/plain": [
       "9.931382051851005e-06"
      ]
     },
     "execution_count": 24,
     "metadata": {},
     "output_type": "execute_result"
    }
   ],
   "source": [
    "np.sum(counts)"
   ]
  },
  {
   "cell_type": "code",
   "execution_count": 25,
   "metadata": {},
   "outputs": [
    {
     "data": {
      "text/plain": [
       "(0.0001434186126986575, 5.309702977053723)"
      ]
     },
     "execution_count": 25,
     "metadata": {},
     "output_type": "execute_result"
    }
   ],
   "source": [
    "np.sum(source_areas*areas), np.sum(counts)*(3600**2)*41253/1e6"
   ]
  },
  {
   "cell_type": "code",
   "execution_count": 26,
   "metadata": {},
   "outputs": [
    {
     "data": {
      "text/plain": [
       "4.326110021786298"
      ]
     },
     "execution_count": 26,
     "metadata": {},
     "output_type": "execute_result"
    }
   ],
   "source": [
    "np.sum(counts)*((60*11)**2)"
   ]
  },
  {
   "cell_type": "code",
   "execution_count": 168,
   "metadata": {},
   "outputs": [
    {
     "data": {
      "text/plain": [
       "<matplotlib.collections.PathCollection at 0x7fd0e21edb80>"
      ]
     },
     "execution_count": 168,
     "metadata": {},
     "output_type": "execute_result"
    },
    {
     "data": {
      "image/png": "[encoded data removed]",
      "text/plain": [
       "<Figure size 432x288 with 1 Axes>"
      ]
     },
     "metadata": {
      "needs_background": "light"
     },
     "output_type": "display_data"
    }
   ],
   "source": [
    "for pi in range(len(params)):\n",
    "    params[pi]['center_x']=np.random.random()*(53.21-53.165)+53.165\n",
    "    params[pi]['center_y']=np.random.random()*(27.835-27.75)-27.835\n",
    "    \n",
    "plt.scatter([pi['center_x'] for pi in params], [pi['center_y'] for pi in params])"
   ]
  },
  {
   "cell_type": "code",
   "execution_count": 169,
   "metadata": {},
   "outputs": [
    {
     "data": {
      "text/plain": [
       "<matplotlib.collections.PathCollection at 0x7fd0ffaa0880>"
      ]
     },
     "execution_count": 169,
     "metadata": {},
     "output_type": "execute_result"
    },
    {
     "data": {
      "image/png": "[encoded data removed]",
      "text/plain": [
       "<Figure size 432x288 with 1 Axes>"
      ]
     },
     "metadata": {
      "needs_background": "light"
     },
     "output_type": "display_data"
    }
   ],
   "source": [
    "plt.scatter(data['RA'], data['DEC'])"
   ]
  },
  {
   "cell_type": "code",
   "execution_count": 170,
   "metadata": {},
   "outputs": [],
   "source": [
    "source_ra = data['RA']\n",
    "source_dec = data['DEC']\n",
    "Re_maj = data['Re_maj']\n",
    "source_z = data['redshift']"
   ]
  },
  {
   "cell_type": "code",
   "execution_count": 232,
   "metadata": {},
   "outputs": [
    {
     "name": "stdout",
     "output_type": "stream",
     "text": [
      "0 100 200 300 400 500 600 700 800 900 1000 1100 1200 "
     ]
    },
    {
     "data": {
      "text/plain": [
       "1"
      ]
     },
     "execution_count": 232,
     "metadata": {},
     "output_type": "execute_result"
    }
   ],
   "source": [
    "\n",
    "\n",
    "total = 0\n",
    "\n",
    "for lens in range(len(masses)):\n",
    "    if lens % 100==0:\n",
    "        print(lens, end=\" \")\n",
    "    c = concs[lens]\n",
    "    k = c*.01*(masses[lens]/1e13)**(1/3)*(np.log10(masses[lens])-9)/(13-9)\n",
    "    theta_E = theta_E_S(c, m=masses[lens], z_lens=zs[lens], z_source=14, k=k)\n",
    "    if theta_E>.03:\n",
    "        \n",
    "        raL, decL = params[lens]['center_x'], params[lens]['center_y']\n",
    "        sources = data[(abs(source_ra-raL)<3*Re_maj/3600) * (abs(source_dec-decL)<3*Re_maj/3600)* (source_z>zs[lens])]\n",
    "        for source in sources:\n",
    "            ra, dec = source['RA'], source['DEC']\n",
    "            sky = SkyCoord(str(ra)+\"d \"+str(dec)+\"d\")\n",
    "            x, y = w.world_to_pixel(sky)\n",
    "            xS, yS = int(x), int(y)\n",
    "\n",
    "            sky = SkyCoord(str(raL)+\"d \"+str(decL)+\"d\")\n",
    "            x, y = w.world_to_pixel(sky)\n",
    "            xL, yL = int(x), int(y)\n",
    "    #         gal = data3[y-R:y+R,x-R:x+R]\n",
    "            if data3[xS,yS]>5*bkg and data3[xL,yL]>5*bkg:\n",
    "                theta_E = theta_E_S(c, m=masses[lens], z_lens=zs[lens], z_source=source['redshift'], k=k)\n",
    "                if theta_E>.03:\n",
    "                    total += 1\n",
    "total"
   ]
  },
  {
   "cell_type": "code",
   "execution_count": 233,
   "metadata": {},
   "outputs": [
    {
     "data": {
      "text/plain": [
       "53.178176"
      ]
     },
     "execution_count": 233,
     "metadata": {},
     "output_type": "execute_result"
    }
   ],
   "source": [
    "data[0]['RA']"
   ]
  },
  {
   "cell_type": "code",
   "execution_count": 234,
   "metadata": {},
   "outputs": [
    {
     "data": {
      "text/plain": [
       "0"
      ]
     },
     "execution_count": 234,
     "metadata": {},
     "output_type": "execute_result"
    }
   ],
   "source": [
    "len(data[(abs(source_ra-raL)<3*Re_maj/3600) * (abs(source_dec-decL)<3*Re_maj/3600)* (source_z>zs[lens])])"
   ]
  },
  {
   "cell_type": "code",
   "execution_count": 224,
   "metadata": {},
   "outputs": [
    {
     "data": {
      "text/plain": [
       "(181608, 53.196571, -27.765447, 3.184432, 9.198083, -19.607502623484447, -1.6608716952928653, 0.62070423, 0.61188626, -8.586197, 10.516938, 9.025517, 0.2283072, 0.62435657, 62.583405, 145.08835, 153.22424, 154.11308, 156.7934, 162.52362, 176.0871, 213.67696, 264.13004, 362.82895, 383.18152, 150.62149, 157.14636, 167.48949, 247.44264, 360.72845, 414.2512, 368.85236, 389.0453, 189.94894, 337.12875, 327.9345, 402.637, 342.95438, 361.51352, 353.71274, 363.85498, 400.4362, 377.73773, 402.3401, 359.62277, 393.35245, -0.569586, 8.150947, -0.22977047071279563, -0.012482839102374072, 0.16426517597334897, 2.6113360689333147, 133.05703213836742, 34.38883383554132, 20.425199156720694, 61.8133384203543, 223.82525155440538, -19.918087, -20.014656, -19.905262, -19.512352, -18.409409, -18.592499, -17.19775, -17.061714, -18.131676, -19.244972, -17.385197, -17.71571, -17.236008, -16.89009, -18.01252, -17.689972, -17.806122, 27330.838, 1.500603, 0.211902, 0.877305, 0.767375, 202.685388)"
      ]
     },
     "execution_count": 224,
     "metadata": {},
     "output_type": "execute_result"
    }
   ],
   "source": [
    "sources"
   ]
  },
  {
   "cell_type": "code",
   "execution_count": 226,
   "metadata": {},
   "outputs": [
    {
     "ename": "TypeError",
     "evalue": "only size-1 arrays can be converted to Python scalars",
     "output_type": "error",
     "traceback": [
      "\u001b[0;31m---------------------------------------------------------------------------\u001b[0m",
      "\u001b[0;31mTypeError\u001b[0m                                 Traceback (most recent call last)",
      "\u001b[0;32m<ipython-input-226-2ae2e035dbce>\u001b[0m in \u001b[0;36m<module>\u001b[0;34m\u001b[0m\n\u001b[1;32m      1\u001b[0m \u001b[0marea\u001b[0m \u001b[0;34m=\u001b[0m \u001b[0;36m0\u001b[0m\u001b[0;34m\u001b[0m\u001b[0;34m\u001b[0m\u001b[0m\n\u001b[0;32m----> 2\u001b[0;31m \u001b[0msources\u001b[0m \u001b[0;34m=\u001b[0m \u001b[0mdata\u001b[0m\u001b[0;34m[\u001b[0m\u001b[0mint\u001b[0m\u001b[0;34m(\u001b[0m\u001b[0mdata\u001b[0m\u001b[0;34m[\u001b[0m\u001b[0;34m'Re_maj'\u001b[0m\u001b[0;34m]\u001b[0m\u001b[0;34m/\u001b[0m\u001b[0;36m.03\u001b[0m\u001b[0;34m)\u001b[0m\u001b[0;34m*\u001b[0m\u001b[0;36m3\u001b[0m\u001b[0;34m>\u001b[0m\u001b[0;36m0\u001b[0m\u001b[0;34m]\u001b[0m\u001b[0;34m\u001b[0m\u001b[0;34m\u001b[0m\u001b[0m\n\u001b[0m\u001b[1;32m      3\u001b[0m \u001b[0;32mfor\u001b[0m \u001b[0msource\u001b[0m \u001b[0;32min\u001b[0m \u001b[0mrange\u001b[0m\u001b[0;34m(\u001b[0m\u001b[0mlen\u001b[0m\u001b[0;34m(\u001b[0m\u001b[0mdata\u001b[0m\u001b[0;34m)\u001b[0m\u001b[0;34m)\u001b[0m\u001b[0;34m:\u001b[0m\u001b[0;34m\u001b[0m\u001b[0;34m\u001b[0m\u001b[0m\n\u001b[1;32m      4\u001b[0m     \u001b[0;32mif\u001b[0m \u001b[0msource\u001b[0m \u001b[0;34m%\u001b[0m \u001b[0;36m1000\u001b[0m\u001b[0;34m==\u001b[0m\u001b[0;36m0\u001b[0m\u001b[0;34m:\u001b[0m\u001b[0;34m\u001b[0m\u001b[0;34m\u001b[0m\u001b[0m\n\u001b[1;32m      5\u001b[0m         \u001b[0mprint\u001b[0m\u001b[0;34m(\u001b[0m\u001b[0msource\u001b[0m\u001b[0;34m)\u001b[0m\u001b[0;34m\u001b[0m\u001b[0;34m\u001b[0m\u001b[0m\n",
      "\u001b[0;31mTypeError\u001b[0m: only size-1 arrays can be converted to Python scalars"
     ]
    }
   ],
   "source": [
    "area = 0\n",
    "sources = data[int(data['Re_maj']/.03)*3>0]\n",
    "for source in range(len(data)):\n",
    "    if source % 1000==0:\n",
    "        print(source)\n",
    "    source = data[source]\n",
    "    R = int(source['Re_maj']/.03)*3\n",
    "    ra, dec = source['RA'], source['DEC']\n",
    "    sky = SkyCoord(str(ra)+\"d \"+str(dec)+\"d\")\n",
    "    x, y = w.world_to_pixel(sky)\n",
    "    x, y = int(x), int(y)\n",
    "\n",
    "    gal = data3[y-R:y+R,x-R:x+R]\n",
    "    area += np.sum(gal>5*bkg)\n",
    "area"
   ]
  },
  {
   "cell_type": "code",
   "execution_count": 207,
   "metadata": {},
   "outputs": [
    {
     "data": {
      "text/plain": [
       "0.013391081815869224"
      ]
     },
     "execution_count": 207,
     "metadata": {},
     "output_type": "execute_result"
    }
   ],
   "source": [
    "area/image.shape[0]/image.shape[1]"
   ]
  },
  {
   "cell_type": "code",
   "execution_count": 181,
   "metadata": {},
   "outputs": [
    {
     "data": {
      "text/plain": [
       "128"
      ]
     },
     "execution_count": 181,
     "metadata": {},
     "output_type": "execute_result"
    }
   ],
   "source": [
    "total = 0\n",
    "x=np.random.random(10000)*(53.21-53.165)+53.165\n",
    "y=np.random.random(10000)*(27.835-27.75)-27.835\n",
    "for i in range(10000):\n",
    "    sky = SkyCoord(str(x[i])+\"d \"+str(y[i])+\"d\")\n",
    "    xL, yL = w.world_to_pixel(sky)\n",
    "    xL, yL = int(xL), int(yL)\n",
    "    if data3[yL,xL]>5*bkg:\n",
    "        total += 1\n",
    "total"
   ]
  },
  {
   "cell_type": "code",
   "execution_count": 186,
   "metadata": {},
   "outputs": [
    {
     "name": "stdout",
     "output_type": "stream",
     "text": [
      "0 100 200 300 400 500 600 700 800 900 1000 1100 1200 "
     ]
    },
    {
     "data": {
      "text/plain": [
       "14"
      ]
     },
     "execution_count": 186,
     "metadata": {},
     "output_type": "execute_result"
    }
   ],
   "source": [
    "total = 0\n",
    "\n",
    "for lens in range(len(masses)):\n",
    "    if lens % 100==0:\n",
    "        print(lens, end=\" \")\n",
    "    c = concs[lens]\n",
    "    k = c*.01*(masses[lens]/1e13)**(1/3)*(np.log10(masses[lens])-9)/(13-9)\n",
    "    theta_E = theta_E_S(c, m=masses[lens], z_lens=zs[lens], z_source=6, k=k)\n",
    "    \n",
    "    raL, decL = params[lens]['center_x'], params[lens]['center_y']\n",
    "    sky = SkyCoord(str(raL)+\"d \"+str(decL)+\"d\")\n",
    "    x, y = w.world_to_pixel(sky)\n",
    "    xL, yL = int(x), int(y)\n",
    "#     print(xL,yL)\n",
    "    \n",
    "    if theta_E>.03 and data3[xL,yL]>5*bkg:\n",
    "        total += 1\n",
    "total"
   ]
  },
  {
   "cell_type": "code",
   "execution_count": 162,
   "metadata": {},
   "outputs": [
    {
     "data": {
      "text/plain": [
       "(array(4202.43574668),\n",
       " array(8981.39674126),\n",
       " array(2977.33158753),\n",
       " array(13176.44762299))"
      ]
     },
     "execution_count": 162,
     "metadata": {},
     "output_type": "execute_result"
    }
   ],
   "source": [
    "x2,x1,y1,y2"
   ]
  },
  {
   "cell_type": "code",
   "execution_count": 157,
   "metadata": {},
   "outputs": [
    {
     "data": {
      "text/plain": [
       "<matplotlib.image.AxesImage at 0x7fd0e6f39f70>"
      ]
     },
     "execution_count": 157,
     "metadata": {},
     "output_type": "execute_result"
    },
    {
     "data": {
      "image/png": "[encoded data removed]",
      "text/plain": [
       "<Figure size 432x288 with 1 Axes>"
      ]
     },
     "metadata": {
      "needs_background": "light"
     },
     "output_type": "display_data"
    }
   ],
   "source": [
    "sky1 = SkyCoord(str(53.165)+\"d \"+str(-27.835)+\"d\")\n",
    "x1, y1 = w.world_to_pixel(sky1)\n",
    "\n",
    "sky2 = SkyCoord(str(53.21)+\"d \"+str(-27.75)+\"d\")\n",
    "x2, y2 = w.world_to_pixel(sky2)\n",
    "\n",
    "# plt.ylim(x1,x2)\n",
    "# plt.xlim(y1,y2)\n",
    "\n",
    "plt.imshow(data3[int(x2):int(x1),int(y1):int(y2)], vmin=0, vmax=.1)"
   ]
  },
  {
   "cell_type": "code",
   "execution_count": 160,
   "metadata": {},
   "outputs": [
    {
     "data": {
      "text/plain": [
       "(4779, 10199)"
      ]
     },
     "execution_count": 160,
     "metadata": {},
     "output_type": "execute_result"
    }
   ],
   "source": [
    "image = data3[int(x2):int(x1),int(y1):int(y2)]\n",
    "image.shape"
   ]
  },
  {
   "cell_type": "code",
   "execution_count": null,
   "metadata": {},
   "outputs": [],
   "source": []
  }
 ],
 "metadata": {
  "kernelspec": {
   "display_name": "Python 3",
   "language": "python",
   "name": "python3"
  },
  "language_info": {
   "codemirror_mode": {
    "name": "ipython",
    "version": 3
   },
   "file_extension": ".py",
   "mimetype": "text/x-python",
   "name": "python",
   "nbconvert_exporter": "python",
   "pygments_lexer": "ipython3",
   "version": "3.8.3"
  }
 },
 "nbformat": 4,
 "nbformat_minor": 4
}
