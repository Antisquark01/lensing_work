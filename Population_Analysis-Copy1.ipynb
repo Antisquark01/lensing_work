{
 "cells": [
  {
   "cell_type": "code",
   "execution_count": 1,
   "metadata": {},
   "outputs": [],
   "source": [
    "import paltas\n",
    "from Analysis import dataset_generation, loss_functions, conv_models, hierarchical_inference\n",
    "import numpy as np\n",
    "import matplotlib.pyplot as plt\n",
    "from scipy.stats import norm\n",
    "import emcee\n",
    "import corner\n",
    "import numba\n",
    "import os\n",
    "\n",
    "np.random.seed(4)"
   ]
  },
  {
   "cell_type": "markdown",
   "metadata": {},
   "source": [
    "# Running Hierarchical Inference on a Population of Strong Lenses\n",
    "\n",
    "__Author:__ Sebastian Wagner-Carena\n",
    "\n",
    "__Goals: Understand how to run hierarchical inference on the network outputs using `paltas`__ \n",
    "\n",
    "__If you have not already done so, you will have to install `tensorflow` to run the Analysis module tools in this notebook. This notebook will also take advantage of the package `emcee`, although you you can use any sampler you like. For the plotting we will use `corner`.__"
   ]
  },
  {
   "cell_type": "markdown",
   "metadata": {},
   "source": [
    "## Making our data\n",
    "\n",
    "To best illustrate how the hierarchical inference tools work, we'll generate a set of artificial network outputs. However, the pipeline outlined here will work equally well with true network outputs. To do this we need to simulate a) the prior we use for trianing and b) the information content of the image. We will focus only on the SHMF normalization and therefore assume that the information content of the image is very low compared to the prior.\n",
    "\n"
   ]
  },
  {
   "cell_type": "code",
   "execution_count": 2,
   "metadata": {},
   "outputs": [
    {
     "name": "stderr",
     "output_type": "stream",
     "text": [
      "/opt/miniconda3/lib/python3.8/site-packages/paltas/Analysis/dataset_generation.py:262: UserWarning: No noise will be added\n",
      "  warnings.warn('No noise will be added')\n"
     ]
    }
   ],
   "source": [
    "learning_params = ['main_deflector_parameters_theta_E','main_deflector_parameters_gamma1','main_deflector_parameters_gamma2','main_deflector_parameters_gamma','main_deflector_parameters_e1','main_deflector_parameters_e2','main_deflector_parameters_center_x','main_deflector_parameters_center_y','subhalo_parameters_sigma_sub']\n",
    "img_size = (170,170,1)\n",
    "num_params = len(learning_params)\n",
    "num_outputs = num_params + int(num_params*(num_params+1)/2)\n",
    "# loss = loss_functions.FullCovarianceLoss(num_params,flip_pairs,\n",
    "#     weight_terms).loss\n",
    "model = conv_models.build_xresnet34(img_size,num_outputs)\n",
    "model.load_weights(\"model_weights/model_weights.h5\")\n",
    "npy_folders_train = ['/opt/miniconda3/lib/python3.8/site-packages/paltas/systems']\n",
    "# The path to the tf_record for the training images\n",
    "tfr_train_paths = [\n",
    "\tos.path.join(path,'data.tfrecord') for path in npy_folders_train]\n",
    "metadata_paths_train = [\n",
    "\tos.path.join(path,'metadata.csv') for path in npy_folders_train]\n",
    "# The path to the folder containing the npy images for validation\n",
    "npy_folder_val = ('/opt/miniconda3/lib/python3.8/site-packages/paltas/systems_val')\n",
    "# The path to the tf_record for the validation images\n",
    "tfr_val_path = os.path.join(npy_folder_val,'data.tfrecord')\n",
    "# The path to the training metadata\n",
    "# The path to the validation metadata\n",
    "metadata_path_val = os.path.join(npy_folder_val,'metadata.csv')\n",
    "# The path to the csv file to read from / write to for normalization\n",
    "# of learning parameters.\n",
    "input_norm_path = npy_folders_train[0] + 'norms.csv'\n",
    "tf_dataset_v = dataset_generation.generate_tf_dataset(tfr_train_paths,\n",
    "    learning_params,1,1,norm_images=True,\n",
    "    input_norm_path=input_norm_path)\n",
    "pred = model.predict(tf_dataset_v)\n",
    "loss = loss_functions.FullCovarianceLoss(num_params)\n",
    "y_pred, prec_mat, L_diag = loss.convert_output(pred)"
   ]
  },
  {
   "cell_type": "code",
   "execution_count": 3,
   "metadata": {},
   "outputs": [],
   "source": [
    "norms = np.loadtxt(\"systemsnorms.csv\", dtype=float, usecols=(1,2), skiprows=1, delimiter=',',)[-1]\n",
    "y_pred_unnorm = np.array([y_pred[i][-1] for i in range(100)])*norms[1]+norms[0]\n",
    "var = np.array([np.linalg.inv(prec_mat[i])[-1,-1] for i in range(100)])*norms[1]**2"
   ]
  },
  {
   "cell_type": "code",
   "execution_count": 12,
   "metadata": {},
   "outputs": [
    {
     "data": {
      "text/plain": [
       "array([[-0.09922131, -0.36328292, -0.2377303 , ...,  0.02968631,\n",
       "         0.09052581,  0.00802191],\n",
       "       [ 0.80746365,  0.16201787, -0.27726233, ...,  0.25071704,\n",
       "         0.10719544,  0.18811254],\n",
       "       [-1.3440634 ,  0.44043255, -0.29254776, ...,  0.22661519,\n",
       "         0.27800524,  0.6189188 ],\n",
       "       ...,\n",
       "       [ 0.33588487, -0.20176838, -0.18388125, ...,  0.09692954,\n",
       "         0.14689784, -0.03376653],\n",
       "       [-0.13765961, -0.3966394 , -0.11962143, ...,  0.10895793,\n",
       "         0.09794514, -0.11372051],\n",
       "       [-0.40433878,  0.53966063, -0.03116507, ...,  0.06017397,\n",
       "         0.18821739,  0.13780116]], dtype=float32)"
      ]
     },
     "execution_count": 12,
     "metadata": {},
     "output_type": "execute_result"
    }
   ],
   "source": [
    "model.predict(tf_dataset_v)"
   ]
  },
  {
   "cell_type": "code",
   "execution_count": 10,
   "metadata": {},
   "outputs": [
    {
     "data": {
      "text/plain": [
       "array([0.00250233, 0.00240198, 0.00165242, 0.00207829, 0.00178444,\n",
       "       0.00228781, 0.00259979, 0.00218234, 0.00224328, 0.00235404,\n",
       "       0.00220658, 0.00248351, 0.00189013, 0.0024355 , 0.00205647,\n",
       "       0.00220418, 0.00172299, 0.00204893, 0.00193394, 0.00191623,\n",
       "       0.00180724, 0.00194781, 0.00221344, 0.00183789, 0.0017043 ,\n",
       "       0.00229012, 0.00240603, 0.00215603, 0.00206339, 0.0020512 ,\n",
       "       0.00219098, 0.00226168, 0.00259419, 0.00231214, 0.00217649,\n",
       "       0.0021599 , 0.00218321, 0.00171829, 0.0025807 , 0.00206602,\n",
       "       0.00237819, 0.00221892, 0.00162349, 0.00184334, 0.00254707,\n",
       "       0.00189237, 0.00197282, 0.00157798, 0.0012761 , 0.00219354,\n",
       "       0.00201643, 0.00233427, 0.0022948 , 0.00140082, 0.00216649,\n",
       "       0.00190015, 0.00216301, 0.00190444, 0.0018749 , 0.00228241,\n",
       "       0.00207886, 0.00234799, 0.00200191, 0.00196471, 0.0019301 ,\n",
       "       0.00217587, 0.0017902 , 0.00198126, 0.00239516, 0.00265484,\n",
       "       0.00211194, 0.00217776, 0.00179945, 0.00210134, 0.00223884,\n",
       "       0.0021824 , 0.00210018, 0.00173114, 0.00191546, 0.00252471,\n",
       "       0.00208965, 0.00141601, 0.00184254, 0.00206778, 0.00197309,\n",
       "       0.0022286 , 0.0023079 , 0.00206945, 0.00177639, 0.00184142,\n",
       "       0.00200029, 0.00261386, 0.00213869, 0.00210981, 0.00229403,\n",
       "       0.00231008, 0.00220419, 0.0025081 , 0.0020752 , 0.00199625],\n",
       "      dtype=float32)"
      ]
     },
     "execution_count": 10,
     "metadata": {},
     "output_type": "execute_result"
    }
   ],
   "source": [
    "y_pred_unnorm"
   ]
  },
  {
   "cell_type": "code",
   "execution_count": 7,
   "metadata": {},
   "outputs": [],
   "source": [
    "# Define the true population mean and its scatter\n",
    "true_mean = 2e-3\n",
    "true_scatter = 1.1e-3\n",
    "\n",
    "image_information_scatter = np.sqrt(var)\n",
    "image_mean = y_pred_unnorm\n",
    "\n",
    "# This in the mean and scatter of the information in each image, but remember our network predicts a posterior which means we need to multiply our likelihood\n",
    "# by the training prior\n",
    "train_mean = norms[0]\n",
    "train_scatter = norms[1]\n",
    "network_means = (image_mean * train_scatter**2 + train_mean*image_information_scatter**2)/(train_scatter**2 + image_information_scatter**2)\n",
    "network_scatter = np.sqrt((train_scatter**2 * image_information_scatter**2)/(train_scatter**2 + image_information_scatter**2))"
   ]
  },
  {
   "cell_type": "code",
   "execution_count": 8,
   "metadata": {},
   "outputs": [
    {
     "data": {
      "text/plain": [
       "0.0010981525008296582"
      ]
     },
     "execution_count": 8,
     "metadata": {},
     "output_type": "execute_result"
    }
   ],
   "source": [
    "train_scatter"
   ]
  },
  {
   "cell_type": "code",
   "execution_count": 9,
   "metadata": {},
   "outputs": [
    {
     "data": {
      "text/plain": [
       "array([0.00090984, 0.00129068, 0.00059138, 0.00108938, 0.00084608,\n",
       "       0.00080513, 0.00094869, 0.00091396, 0.00103999, 0.00088285,\n",
       "       0.00106874, 0.00074384, 0.00064902, 0.0006595 , 0.00137331,\n",
       "       0.00094918, 0.00125286, 0.00119004, 0.00098073, 0.00077916,\n",
       "       0.00102376, 0.00114709, 0.00074506, 0.00130767, 0.00122663,\n",
       "       0.00055164, 0.00061301, 0.00058216, 0.00119558, 0.00096783,\n",
       "       0.00080318, 0.00107298, 0.00043988, 0.0012079 , 0.00108243,\n",
       "       0.00117614, 0.00086241, 0.00103973, 0.00110187, 0.00110035,\n",
       "       0.00104921, 0.00117983, 0.00152369, 0.00107683, 0.00110629,\n",
       "       0.00097346, 0.00111891, 0.00072165, 0.00170625, 0.00092467,\n",
       "       0.00122124, 0.0011261 , 0.00107692, 0.00127659, 0.00109262,\n",
       "       0.00071293, 0.00106319, 0.00114344, 0.00094972, 0.00098843,\n",
       "       0.00097928, 0.00113728, 0.00132545, 0.00093951, 0.0006839 ,\n",
       "       0.00123877, 0.00100058, 0.00124135, 0.00115779, 0.00084303,\n",
       "       0.00055722, 0.00107769, 0.00109815, 0.00087781, 0.00099599,\n",
       "       0.0009777 , 0.00107495, 0.00139946, 0.00098866, 0.00087573,\n",
       "       0.00129923, 0.00046827, 0.00094918, 0.00103311, 0.00118901,\n",
       "       0.00077057, 0.00078483, 0.00123041, 0.00153338, 0.00064589,\n",
       "       0.00078494, 0.00104914, 0.00097414, 0.00113587, 0.00124752,\n",
       "       0.00098212, 0.0012759 , 0.00115117, 0.00065934, 0.00095679],\n",
       "      dtype=float32)"
      ]
     },
     "execution_count": 9,
     "metadata": {},
     "output_type": "execute_result"
    }
   ],
   "source": [
    "image_information_scatter"
   ]
  },
  {
   "cell_type": "markdown",
   "metadata": {},
   "source": [
    "Now we have the image information and the network outputs. The network outputs are dominated by the prior. Quickly, let's confirm that a) if we combined the image information we would get a likelihood consistent with with the true mean and b) if we combine the network outputs we would get a likelihood consistent with the training mean."
   ]
  },
  {
   "cell_type": "code",
   "execution_count": 8,
   "metadata": {},
   "outputs": [
    {
     "data": {
      "image/png": "[encoded data removed]",
      "text/plain": [
       "<Figure size 720x576 with 1 Axes>"
      ]
     },
     "metadata": {
      "needs_background": "light"
     },
     "output_type": "display_data"
    }
   ],
   "source": [
    "# Start by combining all the image level information\n",
    "plt.figure(figsize=(10,8))\n",
    "colors = ['#66c2a5','#fc8d62','#8da0cb','#e78ac3']\n",
    "x = np.linspace(-1e-3,7e-3,1000)\n",
    "prod = np.zeros(len(x))\n",
    "for i in range(100):\n",
    "    prod += norm(loc = image_mean[i],scale=image_information_scatter[i]).logpdf(x)\n",
    "# Normalize the max to 1 for visualization\n",
    "prod -= np.max(prod)\n",
    "plt.plot(x,np.exp(prod),label='Image Information',c=colors[0],lw=4)\n",
    "\n",
    "# Now combine the network outputs\n",
    "prod = np.zeros(len(x))\n",
    "for i in range(100):\n",
    "    prod += norm(loc = network_means[i],scale=network_scatter[i]).logpdf(x)\n",
    "prod -= np.max(prod)\n",
    "plt.plot(x,np.exp(prod),label='Network Information',c=colors[1],lw=4)\n",
    "plt.axvline(true_mean,label='True Mean',c=colors[2],lw=4,ls='--')\n",
    "plt.axvline(train_mean,label='Training Mean',c=colors[3],lw=4,ls='--')\n",
    "plt.legend(fontsize=20)\n",
    "plt.xlabel(r'$\\Sigma_\\mathrm{sub}$',fontsize=20)\n",
    "plt.xlim(.001, .003)\n",
    "plt.xticks(fontsize=20)\n",
    "plt.yticks([])\n",
    "plt.show()"
   ]
  },
  {
   "cell_type": "markdown",
   "metadata": {},
   "source": [
    "Note because there is scatter in our true values, the combination we did above is not statistically correct, but it gives us a good idea of the challenges we face. The information about the population mean exists in the sample, but it washed out by the prior in the posteriors our network is estimating."
   ]
  },
  {
   "cell_type": "markdown",
   "metadata": {},
   "source": [
    "## Hierarchical Inference\n",
    "\n",
    "Now we can use our hierarchical inference tools to combine the network outputs and attempt to infer the population mean and scatter of the SHMF normalization.\n",
    "\n",
    "All of the work gets done by `hierarchical_inference.ProbabilityClassAnalytical` and `emcee`. `ProbabilityClassAnalytical` needs to be initialized with the mean vector and covariance matrix defining the interim training distribution (this class assumed that every distribution being considered is a multivariate Gaussian, but there are other classes in `hierarchical_inference.py` that relax that assumption at the cost of computational time)."
   ]
  },
  {
   "cell_type": "code",
   "execution_count": 21,
   "metadata": {},
   "outputs": [
    {
     "name": "stderr",
     "output_type": "stream",
     "text": [
      "100%|██████████| 10000/10000 [11:07<00:00, 14.98it/s] \n"
     ]
    }
   ],
   "source": [
    "# Let's define a few of the parameters for our inference\n",
    "n_lenses = 100\n",
    "n_emcee_samps = int(1e4)\n",
    "burnin = int(1e3)\n",
    "chains_folder = 'notebook_data/'\n",
    "backend_path = 'example_chains.h5'\n",
    "chains_path = os.path.join(chains_folder,backend_path)\n",
    "\n",
    "# Load the predictions for the mean and covariance for our model. We'll have to do a little reshaping here since the code\n",
    "# expect an array of mean values and a precision matrix.\n",
    "y_pred = network_means[:n_lenses].reshape((n_lenses,1))\n",
    "prec_pred = 1/np.square(network_scatter[:n_lenses].reshape((n_lenses,1,1)))\n",
    "\n",
    "# The interim training distribution.\n",
    "mu_omega_i = np.array([train_mean])\n",
    "cov_omega_i =np.diag(np.array([train_scatter])**2)\n",
    "\n",
    "# We will want to initialize emcee near the correct values.\n",
    "mu_omega = np.array([true_mean])\n",
    "cov_omega =np.diag(np.array([true_scatter])**2)\n",
    "true_hyperparameters = np.concatenate([mu_omega,np.log(np.diag(np.sqrt(cov_omega)))])\n",
    "\n",
    "# A prior function that mainly just bounds the uncertainty estimation.\n",
    "@numba.njit()\n",
    "def eval_func_omega(hyperparameters):\n",
    "    # Enforce that the SHMF normalization is not negative\n",
    "    if hyperparameters[0] < 0:\n",
    "        return -np.inf\n",
    "    # Need to set bounds to avoid random singular matrix proposals\n",
    "    if hyperparameters[1] < -12:\n",
    "        return -np.inf\n",
    "    return 0\n",
    "\n",
    "# Initialize our class and then give it the network predictions. These are set to global variables in case you want to use\n",
    "# pooling.\n",
    "prob_class = hierarchical_inference.ProbabilityClassAnalytical(mu_omega_i,cov_omega_i,eval_func_omega)\n",
    "prob_class.set_predictions(mu_pred_array_input=y_pred,prec_pred_array_input=prec_pred)\n",
    "\n",
    "# Set a few of the parameters we will need to pass to emcee\n",
    "n_walkers = 40\n",
    "ndim = 2\n",
    "\n",
    "# Generate an initial state around the true values (this helps with convergence for this example) \n",
    "initial_std = np.array([5e-4,1])\n",
    "cur_state = (np.random.rand(n_walkers, ndim)*2-1)*initial_std\n",
    "cur_state += true_hyperparameters\n",
    "\n",
    "backend = emcee.backends.HDFBackend(chains_path)\n",
    "sampler = emcee.EnsembleSampler(n_walkers, ndim,prob_class.log_post_omega,backend=backend)\n",
    "sampler.run_mcmc(cur_state,n_emcee_samps,progress=True)\n",
    "chain = sampler.chain[:,burnin:,:].reshape((-1,2))"
   ]
  },
  {
   "cell_type": "markdown",
   "metadata": {},
   "source": [
    "Let's visualize the constraints using `corner`"
   ]
  },
  {
   "cell_type": "code",
   "execution_count": 55,
   "metadata": {},
   "outputs": [],
   "source": [
    "chain_new = []\n",
    "for i in range(len(chain)):\n",
    "    if chain[i][0]<.003 and chain[i][0]>.001:\n",
    "        chain_new.append(chain[i])\n",
    "chain_new = np.array(chain_new)"
   ]
  },
  {
   "cell_type": "code",
   "execution_count": 57,
   "metadata": {},
   "outputs": [
    {
     "data": {
      "image/png": "[encoded data removed]",
      "text/plain": [
       "<Figure size 396x396 with 4 Axes>"
      ]
     },
     "metadata": {
      "needs_background": "light"
     },
     "output_type": "display_data"
    }
   ],
   "source": [
    "corner_param_print=[r'$\\Sigma_\\mathrm{sub,pop} \\times 10^{3}$' + '\\n' + r'$[\\mathrm{kpc}^{-2}]$',\n",
    "                    r'$\\log \\Sigma_\\mathrm{sub,pop,\\sigma} \\times 10^{3}$' + '\\n' + r'$[\\mathrm{kpc}^{-2}]$']\n",
    "fontsize = 20\n",
    "color='#FFAA00'\n",
    "truth_color = 'k'\n",
    "hist_kwargs = {'density':True,'color':color,'lw':3}\n",
    "\n",
    "corner.corner(chain_new,labels=corner_param_print,bins=20,show_titles=False,plot_datapoints=False,label_kwargs=dict(fontsize=fontsize),\n",
    "              levels=[0.68,0.95],color=color,fill_contours=True,hist_kwargs=hist_kwargs,title_fmt='.2f',truths=true_hyperparameters,\n",
    "              truth_color=truth_color,max_n_ticks=3)\n",
    "# corner.corner(chain)\n",
    "plt.show()"
   ]
  },
  {
   "cell_type": "markdown",
   "metadata": {},
   "source": [
    "You have an unbiased inference of the mean, and it's clear from this data that the constrain on the scatter is an upper limit (not suprising given the small scatter and the large uncertainty of the information we assigned to each data point). "
   ]
  },
  {
   "cell_type": "code",
   "execution_count": 37,
   "metadata": {},
   "outputs": [
    {
     "data": {
      "text/plain": [
       "(1181560, 2)"
      ]
     },
     "execution_count": 37,
     "metadata": {},
     "output_type": "execute_result"
    }
   ],
   "source": [
    "chain.shape"
   ]
  },
  {
   "cell_type": "code",
   "execution_count": null,
   "metadata": {},
   "outputs": [],
   "source": []
  }
 ],
 "metadata": {
  "kernelspec": {
   "display_name": "Python 3",
   "language": "python",
   "name": "python3"
  },
  "language_info": {
   "codemirror_mode": {
    "name": "ipython",
    "version": 3
   },
   "file_extension": ".py",
   "mimetype": "text/x-python",
   "name": "python",
   "nbconvert_exporter": "python",
   "pygments_lexer": "ipython3",
   "version": "3.8.3"
  }
 },
 "nbformat": 4,
 "nbformat_minor": 4
}
